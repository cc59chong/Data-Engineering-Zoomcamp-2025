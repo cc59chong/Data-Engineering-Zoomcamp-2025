{
 "cells": [
  {
   "cell_type": "markdown",
   "id": "c76ad5a7-c36d-4898-a4b3-f0bad927624c",
   "metadata": {},
   "source": [
    "# 5.4.2 - GroupBy in Spark"
   ]
  },
  {
   "cell_type": "code",
   "execution_count": 1,
   "id": "0e0760f1-0247-4b38-8005-ab4524831616",
   "metadata": {},
   "outputs": [
    {
     "name": "stdout",
     "output_type": "stream",
     "text": [
      "25/03/27 21:53:01 WARN Utils: Your hostname, DESKTOP-BHSOG44 resolves to a loopback address: 127.0.1.1; using 192.168.147.61 instead (on interface eth0)\n",
      "25/03/27 21:53:01 WARN Utils: Set SPARK_LOCAL_IP if you need to bind to another address\n"
     ]
    },
    {
     "name": "stderr",
     "output_type": "stream",
     "text": [
      "Setting default log level to \"WARN\".\n",
      "To adjust logging level use sc.setLogLevel(newLevel). For SparkR, use setLogLevel(newLevel).\n"
     ]
    },
    {
     "name": "stdout",
     "output_type": "stream",
     "text": [
      "25/03/27 21:53:04 WARN NativeCodeLoader: Unable to load native-hadoop library for your platform... using builtin-java classes where applicable\n",
      "25/03/27 21:53:13 WARN Utils: Service 'SparkUI' could not bind on port 4040. Attempting port 4041.\n"
     ]
    }
   ],
   "source": [
    "import pyspark\n",
    "from pyspark.sql import SparkSession\n",
    "\n",
    "spark = SparkSession.builder \\\n",
    "    .master(\"local[*]\") \\\n",
    "    .appName('test') \\\n",
    "    .getOrCreate() "
   ]
  },
  {
   "cell_type": "code",
   "execution_count": 2,
   "id": "43b3ed92-2980-46b3-971f-63322e1f93ec",
   "metadata": {},
   "outputs": [
    {
     "name": "stderr",
     "output_type": "stream",
     "text": [
      "                                                                                "
     ]
    }
   ],
   "source": [
    "df_green = spark.read.parquet('data/pq/green/*/*')"
   ]
  },
  {
   "cell_type": "code",
   "execution_count": 5,
   "id": "a9261175-6054-423c-a4d9-241a80a5df40",
   "metadata": {},
   "outputs": [],
   "source": [
    "df_green.createOrReplaceTempView('green')"
   ]
  },
  {
   "cell_type": "markdown",
   "id": "175e0f0c-519b-4635-b7b1-d023c5748022",
   "metadata": {},
   "source": [
    "df_green：这是一个 PySpark DataFrame，代表一个分布式数据集。\n",
    "\n",
    ".createOrReplaceTempView('green')：这个方法会在 Spark SQL 中创建一个临时视图（或替换已有的同名视图），视图名称是 'green'。\n",
    "\n",
    "临时视图（Temporary View）：仅在当前 SparkSession 中有效，会话结束后自动消失，不会持久化到元数据库（如 Hive Metastore）。\n",
    "\n",
    "createOrReplace：如果 'green' 视图已存在，则替换它；否则创建新视图。"
   ]
  },
  {
   "cell_type": "code",
   "execution_count": 8,
   "id": "62df8a38-1813-4998-9259-51a66dde409e",
   "metadata": {},
   "outputs": [],
   "source": [
    "df_green_revenue = spark.sql(\"\"\"\n",
    "SELECT \n",
    "    date_trunc('hour', lpep_pickup_datetime) AS hour, \n",
    "    PULocationID AS zone,\n",
    "\n",
    "    SUM(total_amount) AS amount,\n",
    "    COUNT(1) AS number_records\n",
    "FROM\n",
    "    green\n",
    "WHERE\n",
    "    lpep_pickup_datetime >= '2020-01-01 00:00:00'\n",
    "GROUP BY\n",
    "    1, 2\n",
    "ORDER BY\n",
    "    1, 2\n",
    "\"\"\")"
   ]
  },
  {
   "cell_type": "code",
   "execution_count": 9,
   "id": "61b4487f-d5f5-4a22-9bd1-2e7004aed9a1",
   "metadata": {},
   "outputs": [
    {
     "name": "stderr",
     "output_type": "stream",
     "text": [
      "[Stage 6:>                                                          (0 + 4) / 4]"
     ]
    },
    {
     "name": "stdout",
     "output_type": "stream",
     "text": [
      "+-------------------+----+------------------+--------------+\n",
      "|               hour|zone|            amount|number_records|\n",
      "+-------------------+----+------------------+--------------+\n",
      "|2020-01-01 00:00:00|   7| 769.7299999999997|            45|\n",
      "|2020-01-01 00:00:00|  17|195.03000000000003|             9|\n",
      "|2020-01-01 00:00:00|  18|               7.8|             1|\n",
      "|2020-01-01 00:00:00|  22|              15.8|             1|\n",
      "|2020-01-01 00:00:00|  24|              87.6|             3|\n",
      "|2020-01-01 00:00:00|  25| 531.0000000000001|            26|\n",
      "|2020-01-01 00:00:00|  29|              61.3|             1|\n",
      "|2020-01-01 00:00:00|  32| 68.94999999999999|             2|\n",
      "|2020-01-01 00:00:00|  33|            317.27|            11|\n",
      "|2020-01-01 00:00:00|  35|            129.96|             5|\n",
      "|2020-01-01 00:00:00|  36|295.34000000000003|            11|\n",
      "|2020-01-01 00:00:00|  37|            175.67|             6|\n",
      "|2020-01-01 00:00:00|  38| 98.78999999999999|             2|\n",
      "|2020-01-01 00:00:00|  40|168.98000000000002|             8|\n",
      "|2020-01-01 00:00:00|  41|1363.9599999999984|            84|\n",
      "|2020-01-01 00:00:00|  42| 799.7599999999998|            52|\n",
      "|2020-01-01 00:00:00|  43|            107.52|             6|\n",
      "|2020-01-01 00:00:00|  47|              13.3|             1|\n",
      "|2020-01-01 00:00:00|  49|266.76000000000005|            14|\n",
      "|2020-01-01 00:00:00|  51|              17.8|             2|\n",
      "+-------------------+----+------------------+--------------+\n",
      "only showing top 20 rows\n",
      "\n"
     ]
    },
    {
     "name": "stderr",
     "output_type": "stream",
     "text": [
      "                                                                                "
     ]
    }
   ],
   "source": [
    "df_green_revenue.show()"
   ]
  },
  {
   "cell_type": "code",
   "execution_count": 10,
   "id": "ffdab8e3-604f-4ef3-a6b9-0b6f57831220",
   "metadata": {},
   "outputs": [
    {
     "name": "stderr",
     "output_type": "stream",
     "text": [
      "                                                                                "
     ]
    }
   ],
   "source": [
    "df_green_revenue \\\n",
    "     .repartition(20) \\ #make them a little bit bigger\n",
    "     .write.parquet('data/report/revenue/green')"
   ]
  },
  {
   "cell_type": "markdown",
   "id": "b270a32d-e999-48f5-8a3d-bb7c3416ea5d",
   "metadata": {},
   "source": [
    "repartition(N)：强制调整分区数（触发 Shuffle），适合解决数据倾斜或控制文件数量。\n",
    "\n",
    "增大分区数：当数据倾斜、并行度不足或需要更多输出文件时。\n",
    "\n",
    "减小分区数：当分区过多（小文件问题）时，优先用 coalesce。"
   ]
  },
  {
   "cell_type": "code",
   "execution_count": null,
   "id": "8c5357d3-a165-4a36-b88c-81ce8d84b35f",
   "metadata": {},
   "outputs": [],
   "source": [
    "df_green_revenue.write.parquet('data/report/revenue/green', mode='overwrite') #cover the previous"
   ]
  },
  {
   "cell_type": "code",
   "execution_count": 11,
   "id": "1b37831e-5c41-40a7-934b-1b3b6cbc8cf7",
   "metadata": {},
   "outputs": [],
   "source": [
    "df_yellow = spark.read.parquet('data/pq/yellow/*/*')"
   ]
  },
  {
   "cell_type": "code",
   "execution_count": 12,
   "id": "5fa70ebe-c7ca-4ccd-a191-e4bcd3acd236",
   "metadata": {},
   "outputs": [],
   "source": [
    "df_yellow.createOrReplaceTempView('yellow')"
   ]
  },
  {
   "cell_type": "code",
   "execution_count": 15,
   "id": "36e5d944-d375-41f7-bfbb-4819aed98be9",
   "metadata": {},
   "outputs": [],
   "source": [
    "df_yellow_revenue = spark.sql(\"\"\"\n",
    "SELECT \n",
    "    date_trunc('hour', tpep_pickup_datetime) AS hour, \n",
    "    PULocationID AS zone,\n",
    "\n",
    "    SUM(total_amount) AS amount,\n",
    "    COUNT(1) AS number_records\n",
    "FROM\n",
    "    yellow\n",
    "WHERE\n",
    "    tpep_pickup_datetime >= '2020-01-01 00:00:00'\n",
    "GROUP BY\n",
    "    1, 2\n",
    "ORDER BY\n",
    "    1, 2\n",
    "\"\"\")"
   ]
  },
  {
   "cell_type": "code",
   "execution_count": 16,
   "id": "21a3c828-5135-4647-903b-ebd4f2224341",
   "metadata": {},
   "outputs": [
    {
     "name": "stderr",
     "output_type": "stream",
     "text": [
      "                                                                                "
     ]
    },
    {
     "name": "stdout",
     "output_type": "stream",
     "text": [
      "+-------------------+----+------------------+--------------+\n",
      "|               hour|zone|            amount|number_records|\n",
      "+-------------------+----+------------------+--------------+\n",
      "|2020-01-01 00:00:00|   3|              25.0|             1|\n",
      "|2020-01-01 00:00:00|   4|1004.3000000000002|            57|\n",
      "|2020-01-01 00:00:00|   7| 455.1700000000001|            38|\n",
      "|2020-01-01 00:00:00|  10|             42.41|             2|\n",
      "|2020-01-01 00:00:00|  12|             107.0|             6|\n",
      "|2020-01-01 00:00:00|  13|            1214.8|            56|\n",
      "|2020-01-01 00:00:00|  14|               8.8|             1|\n",
      "|2020-01-01 00:00:00|  15|             34.09|             1|\n",
      "|2020-01-01 00:00:00|  17|220.20999999999998|             8|\n",
      "|2020-01-01 00:00:00|  18|               5.8|             1|\n",
      "|2020-01-01 00:00:00|  24| 754.9500000000003|            45|\n",
      "|2020-01-01 00:00:00|  25|            324.35|            16|\n",
      "|2020-01-01 00:00:00|  32|              18.0|             1|\n",
      "|2020-01-01 00:00:00|  33|            255.56|             8|\n",
      "|2020-01-01 00:00:00|  34|              19.3|             1|\n",
      "|2020-01-01 00:00:00|  36|            109.17|             3|\n",
      "|2020-01-01 00:00:00|  37|            161.61|             7|\n",
      "|2020-01-01 00:00:00|  40|             89.97|             5|\n",
      "|2020-01-01 00:00:00|  41|1256.5299999999997|            80|\n",
      "|2020-01-01 00:00:00|  42| 635.3500000000001|            46|\n",
      "+-------------------+----+------------------+--------------+\n",
      "only showing top 20 rows\n",
      "\n"
     ]
    }
   ],
   "source": [
    "df_yellow_revenue.show()"
   ]
  },
  {
   "cell_type": "code",
   "execution_count": 19,
   "id": "dcf2f437-9be0-4c77-8d6d-62efa0569a51",
   "metadata": {},
   "outputs": [
    {
     "name": "stderr",
     "output_type": "stream",
     "text": [
      "                                                                                "
     ]
    }
   ],
   "source": [
    "df_yellow_revenue \\\n",
    "     .repartition(20) \\\n",
    "     .write.parquet('data/report/revenue/yellow', mode='overwrite')"
   ]
  },
  {
   "cell_type": "markdown",
   "id": "47772693-40d7-4fdf-b7f4-eb9066a1f788",
   "metadata": {},
   "source": [
    "# 5.4.3 - Joins in Spark"
   ]
  },
  {
   "cell_type": "markdown",
   "id": "f737db59-07ce-44f4-9273-b03583a98b11",
   "metadata": {},
   "source": [
    "When 2 datasets are too large, we can use parquet instead of original df_green_revenue"
   ]
  },
  {
   "cell_type": "code",
   "execution_count": 29,
   "id": "4cde39a9-b5c5-437b-baa9-913d2a328e43",
   "metadata": {},
   "outputs": [],
   "source": [
    "df_green_revenue = spark.read.parquet('data/report/revenue/green')\n",
    "df_yellow_revenue = spark.read.parquet('data/report/revenue/yellow')"
   ]
  },
  {
   "cell_type": "code",
   "execution_count": 30,
   "id": "a69c49d7-4ab7-461f-bbfb-7aa37b485873",
   "metadata": {},
   "outputs": [],
   "source": [
    "df_green_revenue_tmp = df_green_revenue \\\n",
    "    .withColumnRenamed('amount', 'green_amount') \\\n",
    "    .withColumnRenamed('number_records', 'green_number_records')\n",
    "\n",
    "df_yellow_revenue_tmp = df_yellow_revenue \\\n",
    "    .withColumnRenamed('amount', 'yellow_amount') \\\n",
    "    .withColumnRenamed('number_records', 'yellow_number_records')"
   ]
  },
  {
   "cell_type": "code",
   "execution_count": 31,
   "id": "3b675784-c726-41b6-a3cb-4daab81e5231",
   "metadata": {},
   "outputs": [],
   "source": [
    "df_join = df_green_revenue_tmp.join(df_yellow_revenue_tmp, on=['hour', 'zone'], how='outer')"
   ]
  },
  {
   "cell_type": "code",
   "execution_count": 32,
   "id": "851502fa-d172-46c6-8af8-cd3128ebf4d2",
   "metadata": {},
   "outputs": [
    {
     "name": "stderr",
     "output_type": "stream",
     "text": [
      "[Stage 66:===========================================>              (3 + 1) / 4]"
     ]
    },
    {
     "name": "stdout",
     "output_type": "stream",
     "text": [
      "+-------------------+----+------------------+--------------------+------------------+---------------------+\n",
      "|               hour|zone|      green_amount|green_number_records|     yellow_amount|yellow_number_records|\n",
      "+-------------------+----+------------------+--------------------+------------------+---------------------+\n",
      "|2020-01-01 00:00:00|   4|              null|                null|1004.3000000000002|                   57|\n",
      "|2020-01-01 00:00:00|  13|              null|                null|            1214.8|                   56|\n",
      "|2020-01-01 00:00:00|  32| 68.94999999999999|                   2|              18.0|                    1|\n",
      "|2020-01-01 00:00:00|  36|295.34000000000003|                  11|            109.17|                    3|\n",
      "|2020-01-01 00:00:00|  45|              null|                null| 732.4800000000002|                   42|\n",
      "|2020-01-01 00:00:00|  59|50.900000000000006|                   3|              null|                 null|\n",
      "|2020-01-01 00:00:00|  61|            526.71|                  17|            146.64|                    3|\n",
      "|2020-01-01 00:00:00|  62|             15.95|                   1|             61.43|                    1|\n",
      "|2020-01-01 00:00:00|  69|              11.8|                   1|106.52000000000001|                    4|\n",
      "|2020-01-01 00:00:00|  73|              null|                null|              17.3|                    1|\n",
      "|2020-01-01 00:00:00|  75| 278.1400000000001|                  26| 958.3500000000003|                   69|\n",
      "|2020-01-01 00:00:00|  76|            143.78|                   4|             35.51|                    2|\n",
      "|2020-01-01 00:00:00|  79|              null|                null|12573.810000000034|                  721|\n",
      "|2020-01-01 00:00:00|  85| 64.75999999999999|                   4|102.56000000000002|                    3|\n",
      "|2020-01-01 00:00:00|  90|              null|                null| 5010.450000000003|                  266|\n",
      "|2020-01-01 00:00:00|  92|             80.72|                   3|              75.3|                    1|\n",
      "|2020-01-01 00:00:00| 107|              null|                null| 6441.030000000005|                  380|\n",
      "|2020-01-01 00:00:00| 112|            312.26|                  18|            119.48|                    8|\n",
      "|2020-01-01 00:00:00| 114|              null|                null| 6256.430000000006|                  333|\n",
      "|2020-01-01 00:00:00| 126|              null|                null|             170.6|                    2|\n",
      "+-------------------+----+------------------+--------------------+------------------+---------------------+\n",
      "only showing top 20 rows\n",
      "\n"
     ]
    },
    {
     "name": "stderr",
     "output_type": "stream",
     "text": [
      "                                                                                "
     ]
    }
   ],
   "source": [
    "df_join.show()"
   ]
  },
  {
   "cell_type": "code",
   "execution_count": 33,
   "id": "dd18c28b-a7bb-4674-8859-74a4a7a0b91a",
   "metadata": {},
   "outputs": [
    {
     "name": "stderr",
     "output_type": "stream",
     "text": [
      "                                                                                "
     ]
    }
   ],
   "source": [
    "df_join.write.parquet('data/report/revenue/total', mode='overwrite')"
   ]
  },
  {
   "cell_type": "code",
   "execution_count": 34,
   "id": "f51f8ab4-c372-4f42-a84b-17b86d8ca6ee",
   "metadata": {},
   "outputs": [
    {
     "data": {
      "text/plain": [
       "DataFrame[hour: timestamp, zone: int, green_amount: double, green_number_records: bigint, yellow_amount: double, yellow_number_records: bigint]"
      ]
     },
     "execution_count": 34,
     "metadata": {},
     "output_type": "execute_result"
    }
   ],
   "source": [
    "df_join"
   ]
  },
  {
   "cell_type": "markdown",
   "id": "a4bda9b2-c69c-44a2-9c98-626acb8a8d1f",
   "metadata": {},
   "source": [
    "When one dataset is large and another is small"
   ]
  },
  {
   "cell_type": "code",
   "execution_count": 35,
   "id": "bcd4c692-9ab3-4f21-b165-e85f36a045d7",
   "metadata": {},
   "outputs": [],
   "source": [
    "df_zones = spark.read.parquet('zones/')"
   ]
  },
  {
   "cell_type": "code",
   "execution_count": 36,
   "id": "2b7aa723-6b1a-4ec1-9f8a-e14b44bcb885",
   "metadata": {},
   "outputs": [
    {
     "name": "stdout",
     "output_type": "stream",
     "text": [
      "+----------+-------------+--------------------+------------+\n",
      "|LocationID|      Borough|                Zone|service_zone|\n",
      "+----------+-------------+--------------------+------------+\n",
      "|         1|          EWR|      Newark Airport|         EWR|\n",
      "|         2|       Queens|         Jamaica Bay|   Boro Zone|\n",
      "|         3|        Bronx|Allerton/Pelham G...|   Boro Zone|\n",
      "|         4|    Manhattan|       Alphabet City| Yellow Zone|\n",
      "|         5|Staten Island|       Arden Heights|   Boro Zone|\n",
      "|         6|Staten Island|Arrochar/Fort Wad...|   Boro Zone|\n",
      "|         7|       Queens|             Astoria|   Boro Zone|\n",
      "|         8|       Queens|        Astoria Park|   Boro Zone|\n",
      "|         9|       Queens|          Auburndale|   Boro Zone|\n",
      "|        10|       Queens|        Baisley Park|   Boro Zone|\n",
      "|        11|     Brooklyn|          Bath Beach|   Boro Zone|\n",
      "|        12|    Manhattan|        Battery Park| Yellow Zone|\n",
      "|        13|    Manhattan|   Battery Park City| Yellow Zone|\n",
      "|        14|     Brooklyn|           Bay Ridge|   Boro Zone|\n",
      "|        15|       Queens|Bay Terrace/Fort ...|   Boro Zone|\n",
      "|        16|       Queens|             Bayside|   Boro Zone|\n",
      "|        17|     Brooklyn|             Bedford|   Boro Zone|\n",
      "|        18|        Bronx|        Bedford Park|   Boro Zone|\n",
      "|        19|       Queens|           Bellerose|   Boro Zone|\n",
      "|        20|        Bronx|             Belmont|   Boro Zone|\n",
      "+----------+-------------+--------------------+------------+\n",
      "only showing top 20 rows\n",
      "\n"
     ]
    }
   ],
   "source": [
    "df_zones.show()"
   ]
  },
  {
   "cell_type": "code",
   "execution_count": 37,
   "id": "a3258ba4-1d72-409b-b373-800b06546540",
   "metadata": {},
   "outputs": [],
   "source": [
    "df_result = df_join.join(df_zones, df_join.zone == df_zones.LocationID)"
   ]
  },
  {
   "cell_type": "code",
   "execution_count": 38,
   "id": "927172fb-d548-4111-a8a6-509d7f341e0d",
   "metadata": {},
   "outputs": [
    {
     "name": "stderr",
     "output_type": "stream",
     "text": [
      "                                                                                "
     ]
    },
    {
     "name": "stdout",
     "output_type": "stream",
     "text": [
      "+-------------------+----+------------------+--------------------+------------------+---------------------+---------+--------------------+------------+\n",
      "|               hour|zone|      green_amount|green_number_records|     yellow_amount|yellow_number_records|  Borough|                Zone|service_zone|\n",
      "+-------------------+----+------------------+--------------------+------------------+---------------------+---------+--------------------+------------+\n",
      "|2020-01-01 00:00:00|   4|              null|                null|1004.3000000000002|                   57|Manhattan|       Alphabet City| Yellow Zone|\n",
      "|2020-01-01 00:00:00|  13|              null|                null|            1214.8|                   56|Manhattan|   Battery Park City| Yellow Zone|\n",
      "|2020-01-01 00:00:00|  32| 68.94999999999999|                   2|              18.0|                    1|    Bronx|           Bronxdale|   Boro Zone|\n",
      "|2020-01-01 00:00:00|  36|295.34000000000003|                  11|            109.17|                    3| Brooklyn|      Bushwick North|   Boro Zone|\n",
      "|2020-01-01 00:00:00|  45|              null|                null| 732.4800000000002|                   42|Manhattan|           Chinatown| Yellow Zone|\n",
      "|2020-01-01 00:00:00|  59|50.900000000000006|                   3|              null|                 null|    Bronx|        Crotona Park|   Boro Zone|\n",
      "|2020-01-01 00:00:00|  61|            526.71|                  17|            146.64|                    3| Brooklyn| Crown Heights North|   Boro Zone|\n",
      "|2020-01-01 00:00:00|  62|             15.95|                   1|             61.43|                    1| Brooklyn| Crown Heights South|   Boro Zone|\n",
      "|2020-01-01 00:00:00|  69|              11.8|                   1|106.52000000000001|                    4|    Bronx|East Concourse/Co...|   Boro Zone|\n",
      "|2020-01-01 00:00:00|  73|              null|                null|              17.3|                    1|   Queens|       East Flushing|   Boro Zone|\n",
      "|2020-01-01 00:00:00|  75| 278.1400000000001|                  26| 958.3500000000003|                   69|Manhattan|   East Harlem South|   Boro Zone|\n",
      "|2020-01-01 00:00:00|  76|            143.78|                   4|             35.51|                    2| Brooklyn|       East New York|   Boro Zone|\n",
      "|2020-01-01 00:00:00|  79|              null|                null|12573.810000000034|                  721|Manhattan|        East Village| Yellow Zone|\n",
      "|2020-01-01 00:00:00|  85| 64.75999999999999|                   4|102.56000000000002|                    3| Brooklyn|             Erasmus|   Boro Zone|\n",
      "|2020-01-01 00:00:00|  90|              null|                null| 5010.450000000003|                  266|Manhattan|            Flatiron| Yellow Zone|\n",
      "|2020-01-01 00:00:00|  92|             80.72|                   3|              75.3|                    1|   Queens|            Flushing|   Boro Zone|\n",
      "|2020-01-01 00:00:00| 107|              null|                null| 6441.030000000005|                  380|Manhattan|            Gramercy| Yellow Zone|\n",
      "|2020-01-01 00:00:00| 112|            312.26|                  18|            119.48|                    8| Brooklyn|          Greenpoint|   Boro Zone|\n",
      "|2020-01-01 00:00:00| 114|              null|                null| 6256.430000000006|                  333|Manhattan|Greenwich Village...| Yellow Zone|\n",
      "|2020-01-01 00:00:00| 126|              null|                null|             170.6|                    2|    Bronx|         Hunts Point|   Boro Zone|\n",
      "+-------------------+----+------------------+--------------------+------------------+---------------------+---------+--------------------+------------+\n",
      "only showing top 20 rows\n",
      "\n"
     ]
    }
   ],
   "source": [
    "df_result.drop('LocationID').show()"
   ]
  },
  {
   "cell_type": "code",
   "execution_count": 39,
   "id": "5d5f3c16-890d-4d23-99f5-27856823f799",
   "metadata": {},
   "outputs": [
    {
     "name": "stderr",
     "output_type": "stream",
     "text": [
      "                                                                                "
     ]
    }
   ],
   "source": [
    "df_result.drop('LocationID', 'zone').write.parquet('tmp/revenue-zones')"
   ]
  },
  {
   "cell_type": "code",
   "execution_count": null,
   "id": "cd42ef5b-48d3-4cc5-8bcc-5c680b24c039",
   "metadata": {},
   "outputs": [],
   "source": []
  }
 ],
 "metadata": {
  "kernelspec": {
   "display_name": "Python 3 (ipykernel)",
   "language": "python",
   "name": "python3"
  },
  "language_info": {
   "codemirror_mode": {
    "name": "ipython",
    "version": 3
   },
   "file_extension": ".py",
   "mimetype": "text/x-python",
   "name": "python",
   "nbconvert_exporter": "python",
   "pygments_lexer": "ipython3",
   "version": "3.8.10"
  }
 },
 "nbformat": 4,
 "nbformat_minor": 5
}
