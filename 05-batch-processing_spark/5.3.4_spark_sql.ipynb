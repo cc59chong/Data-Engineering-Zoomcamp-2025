{
 "cells": [
  {
   "cell_type": "markdown",
   "id": "7f62df72-6c93-48bc-a1a1-b5f85bff0f2c",
   "metadata": {},
   "source": [
    "# 5.3.4 SQL with Spark"
   ]
  },
  {
   "cell_type": "code",
   "execution_count": 6,
   "id": "e98b4cf6-d0db-47df-8733-e8492161d1f8",
   "metadata": {},
   "outputs": [
    {
     "name": "stdout",
     "output_type": "stream",
     "text": [
      "Collecting pyspark\n",
      "  Downloading pyspark-3.5.5.tar.gz (317.2 MB)\n",
      "\u001b[K     |████████████████████████████████| 317.2 MB 209 bytes/s  0:00:014\n",
      "\u001b[?25hCollecting py4j==0.10.9.7\n",
      "  Downloading py4j-0.10.9.7-py2.py3-none-any.whl (200 kB)\n",
      "\u001b[K     |████████████████████████████████| 200 kB 3.7 MB/s eta 0:00:01\n",
      "\u001b[?25hBuilding wheels for collected packages: pyspark\n",
      "done\n",
      "\u001b[?25h  Created wheel for pyspark: filename=pyspark-3.5.5-py2.py3-none-any.whl size=317747881 sha256=562e6ff865fe0be001ca1b431a035b21a52b535154237cb78854d216afe3b1ba\n",
      "  Stored in directory: /home/cmy/.cache/pip/wheels/9e/5b/b4/a3ac8d456edf8c52eb15f9eb357d961812d5f17bf203c54c18\n",
      "Successfully built pyspark\n",
      "Installing collected packages: py4j, pyspark\n",
      "Successfully installed py4j-0.10.9.7 pyspark-3.5.5\n"
     ]
    }
   ],
   "source": [
    "!pip install pyspark"
   ]
  },
  {
   "cell_type": "code",
   "execution_count": 1,
   "id": "25ad2be1-61b6-477d-9c3a-c9edd18864ab",
   "metadata": {},
   "outputs": [
    {
     "name": "stdout",
     "output_type": "stream",
     "text": [
      "25/03/26 23:00:09 WARN Utils: Your hostname, DESKTOP-BHSOG44 resolves to a loopback address: 127.0.1.1; using 192.168.147.61 instead (on interface eth0)\n",
      "25/03/26 23:00:09 WARN Utils: Set SPARK_LOCAL_IP if you need to bind to another address\n"
     ]
    },
    {
     "name": "stderr",
     "output_type": "stream",
     "text": [
      "Setting default log level to \"WARN\".\n",
      "To adjust logging level use sc.setLogLevel(newLevel). For SparkR, use setLogLevel(newLevel).\n"
     ]
    },
    {
     "name": "stdout",
     "output_type": "stream",
     "text": [
      "25/03/26 23:00:12 WARN NativeCodeLoader: Unable to load native-hadoop library for your platform... using builtin-java classes where applicable\n"
     ]
    }
   ],
   "source": [
    "import pyspark\n",
    "from pyspark.sql import SparkSession\n",
    "\n",
    "spark = SparkSession.builder \\\n",
    "    .master(\"local[*]\") \\\n",
    "    .appName('test') \\\n",
    "    .getOrCreate() "
   ]
  },
  {
   "cell_type": "markdown",
   "id": "346b766e-544d-485b-8d65-66b80cedd192",
   "metadata": {},
   "source": [
    "## 1: Loading the data\n",
    "We want to load the green and yellow taxi datasets, which contain taxi trip data for 2020 and 2021. We will use spark.read.parquet since the data is already stored in Parquet format. To load both 2020 and 2021 datasets, we can use a wildcard (*). Since the data has a nested structure (organized by year and month),For example:\n",
    "（我目前准备的数据中只有2020的data）"
   ]
  },
  {
   "cell_type": "code",
   "execution_count": 2,
   "id": "0d4d5d34-0b8e-49d0-bebc-d19ad496398d",
   "metadata": {},
   "outputs": [
    {
     "name": "stderr",
     "output_type": "stream",
     "text": [
      "                                                                                "
     ]
    }
   ],
   "source": [
    "df_green = spark.read.parquet('data/pq/green/*/*')"
   ]
  },
  {
   "cell_type": "code",
   "execution_count": 3,
   "id": "91d18d05-b419-41e0-8eda-3caa726bb3ba",
   "metadata": {},
   "outputs": [],
   "source": [
    "df_yellow = spark.read.parquet('data/pq/yellow/*/*')"
   ]
  },
  {
   "cell_type": "markdown",
   "id": "bb2e0526-65ec-4849-b465-0b45bebe744e",
   "metadata": {},
   "source": [
    "## 2: Finding common columns\n",
    "To unify the data, we will select only the common columns between both datasets."
   ]
  },
  {
   "cell_type": "code",
   "execution_count": 4,
   "id": "e4ecf14c-c08d-4d81-9ac8-0720ab4b6869",
   "metadata": {},
   "outputs": [
    {
     "data": {
      "text/plain": [
       "['VendorID',\n",
       " 'lpep_pickup_datetime',\n",
       " 'lpep_dropoff_datetime',\n",
       " 'store_and_fwd_flag',\n",
       " 'RatecodeID',\n",
       " 'PULocationID',\n",
       " 'DOLocationID',\n",
       " 'passenger_count',\n",
       " 'trip_distance',\n",
       " 'fare_amount',\n",
       " 'extra',\n",
       " 'mta_tax',\n",
       " 'tip_amount',\n",
       " 'tolls_amount',\n",
       " 'ehail_fee',\n",
       " 'improvement_surcharge',\n",
       " 'total_amount',\n",
       " 'payment_type',\n",
       " 'trip_type',\n",
       " 'congestion_surcharge']"
      ]
     },
     "execution_count": 4,
     "metadata": {},
     "output_type": "execute_result"
    }
   ],
   "source": [
    "df_green.columns"
   ]
  },
  {
   "cell_type": "code",
   "execution_count": 5,
   "id": "c25a30bd-0822-462e-9e3a-bb2eb255b870",
   "metadata": {},
   "outputs": [
    {
     "data": {
      "text/plain": [
       "['VendorID',\n",
       " 'tpep_pickup_datetime',\n",
       " 'tpep_dropoff_datetime',\n",
       " 'passenger_count',\n",
       " 'trip_distance',\n",
       " 'RatecodeID',\n",
       " 'store_and_fwd_flag',\n",
       " 'PULocationID',\n",
       " 'DOLocationID',\n",
       " 'payment_type',\n",
       " 'fare_amount',\n",
       " 'extra',\n",
       " 'mta_tax',\n",
       " 'tip_amount',\n",
       " 'tolls_amount',\n",
       " 'improvement_surcharge',\n",
       " 'total_amount',\n",
       " 'congestion_surcharge']"
      ]
     },
     "execution_count": 5,
     "metadata": {},
     "output_type": "execute_result"
    }
   ],
   "source": [
    "df_yellow.columns"
   ]
  },
  {
   "cell_type": "markdown",
   "id": "c876a9f5-02f7-49d0-89ef-3645e3dd51f1",
   "metadata": {},
   "source": [
    "To see what's the common between these two"
   ]
  },
  {
   "cell_type": "code",
   "execution_count": 6,
   "id": "6dcbe764-915c-450a-9cb1-368f284fe97f",
   "metadata": {},
   "outputs": [
    {
     "data": {
      "text/plain": [
       "{'DOLocationID',\n",
       " 'PULocationID',\n",
       " 'RatecodeID',\n",
       " 'VendorID',\n",
       " 'congestion_surcharge',\n",
       " 'extra',\n",
       " 'fare_amount',\n",
       " 'improvement_surcharge',\n",
       " 'mta_tax',\n",
       " 'passenger_count',\n",
       " 'payment_type',\n",
       " 'store_and_fwd_flag',\n",
       " 'tip_amount',\n",
       " 'tolls_amount',\n",
       " 'total_amount',\n",
       " 'trip_distance'}"
      ]
     },
     "execution_count": 6,
     "metadata": {},
     "output_type": "execute_result"
    }
   ],
   "source": [
    "set(df_green.columns) & set(df_yellow.columns)"
   ]
  },
  {
   "cell_type": "markdown",
   "id": "aa3ce12a-3e80-46ff-a23b-38a37fda87db",
   "metadata": {},
   "source": [
    "First, we will rename the pickup and drop-off time columns in each dataset so they match:"
   ]
  },
  {
   "cell_type": "code",
   "execution_count": 7,
   "id": "0853b0a7-f2a2-48df-93a2-d2d7e47c10c3",
   "metadata": {},
   "outputs": [],
   "source": [
    "df_green = df_green \\\n",
    "    .withColumnRenamed('lpep_pickup_datetime', 'pickup_datetime') \\\n",
    "    .withColumnRenamed('lpep_dropoff_datetime', 'dropoff_datetime')\n",
    "\n",
    "df_yellow = df_yellow \\\n",
    "    .withColumnRenamed('tpep_pickup_datetime', 'pickup_datetime') \\\n",
    "    .withColumnRenamed('tpep_dropoff_datetime', 'dropoff_datetime')    "
   ]
  },
  {
   "cell_type": "markdown",
   "id": "eef21a8b-79b6-4339-8393-7a5c887be486",
   "metadata": {},
   "source": [
    "Then we will find the common columns and in the same order:"
   ]
  },
  {
   "cell_type": "code",
   "execution_count": 8,
   "id": "c55cf96b-9b2a-45cb-aa0b-487119da783e",
   "metadata": {},
   "outputs": [],
   "source": [
    "common_colums = []\n",
    "\n",
    "yellow_columns = set(df_yellow.columns)\n",
    "\n",
    "for col in df_green.columns:\n",
    "    if col in yellow_columns:\n",
    "        common_colums.append(col)"
   ]
  },
  {
   "cell_type": "code",
   "execution_count": 9,
   "id": "6c6eef1f-71e9-4485-91e1-30239eba869b",
   "metadata": {},
   "outputs": [
    {
     "data": {
      "text/plain": [
       "['VendorID',\n",
       " 'pickup_datetime',\n",
       " 'dropoff_datetime',\n",
       " 'store_and_fwd_flag',\n",
       " 'RatecodeID',\n",
       " 'PULocationID',\n",
       " 'DOLocationID',\n",
       " 'passenger_count',\n",
       " 'trip_distance',\n",
       " 'fare_amount',\n",
       " 'extra',\n",
       " 'mta_tax',\n",
       " 'tip_amount',\n",
       " 'tolls_amount',\n",
       " 'improvement_surcharge',\n",
       " 'total_amount',\n",
       " 'payment_type',\n",
       " 'congestion_surcharge']"
      ]
     },
     "execution_count": 9,
     "metadata": {},
     "output_type": "execute_result"
    }
   ],
   "source": [
    "common_colums"
   ]
  },
  {
   "cell_type": "markdown",
   "id": "b062ed05-43fc-4de0-b7ae-8883a48bc3da",
   "metadata": {},
   "source": [
    "## 3: Combining yellow and green data\n",
    "we will add a new column, service_type, to distinguish records from green and yellow taxi data:"
   ]
  },
  {
   "cell_type": "code",
   "execution_count": 10,
   "id": "73e8180d-4116-4120-b750-5d5537aa6ff3",
   "metadata": {},
   "outputs": [],
   "source": [
    "from pyspark.sql import functions as F"
   ]
  },
  {
   "cell_type": "code",
   "execution_count": 11,
   "id": "8d1704ad-3920-4baa-b218-ca1f3c0bf0f2",
   "metadata": {},
   "outputs": [],
   "source": [
    "df_green_sel = df_green \\\n",
    "    .select(common_colums) \\\n",
    "    .withColumn('service_type', F.lit('green'))\n",
    "\n",
    "\n",
    "df_yellow_sel = df_yellow \\\n",
    "    .select(common_colums) \\\n",
    "    .withColumn('service_type', F.lit('yellow'))"
   ]
  },
  {
   "cell_type": "markdown",
   "id": "033adb38-6267-429d-905f-1c3739af16f0",
   "metadata": {},
   "source": [
    "we can combine both datasets using unionAll:"
   ]
  },
  {
   "cell_type": "code",
   "execution_count": 12,
   "id": "8b8cb219-e2d3-4a9d-8766-68fbddbd06e5",
   "metadata": {},
   "outputs": [],
   "source": [
    "df_trips_data = df_green_sel.unionAll(df_yellow_sel)"
   ]
  },
  {
   "cell_type": "markdown",
   "id": "b4e89cf8-0279-4036-bdd0-a13564549144",
   "metadata": {},
   "source": [
    "To verify the merge, we can perform a simple groupBy operation:"
   ]
  },
  {
   "cell_type": "code",
   "execution_count": 13,
   "id": "c5477b03-434a-4594-ab51-afcbb70d2a1e",
   "metadata": {},
   "outputs": [
    {
     "name": "stderr",
     "output_type": "stream",
     "text": [
      "[Stage 2:===============================================>         (10 + 2) / 12]"
     ]
    },
    {
     "name": "stdout",
     "output_type": "stream",
     "text": [
      "+------------+--------+\n",
      "|service_type|   count|\n",
      "+------------+--------+\n",
      "|       green| 1734051|\n",
      "|      yellow|24648499|\n",
      "+------------+--------+\n",
      "\n"
     ]
    },
    {
     "name": "stderr",
     "output_type": "stream",
     "text": [
      "                                                                                "
     ]
    }
   ],
   "source": [
    "df_trips_data.groupBy('service_type').count().show()"
   ]
  },
  {
   "cell_type": "markdown",
   "id": "a9980e93-63d0-4526-a41f-7ce47e7bdb7f",
   "metadata": {},
   "source": [
    "## 4: Querying with SQL\n",
    "Now we can see how to use SQL for querying this data. First, we need to tell Spark that this DataFrame is a table. For that, we use:"
   ]
  },
  {
   "cell_type": "code",
   "execution_count": 14,
   "id": "d8f1e518-8661-496d-93c0-f0fa249c8f55",
   "metadata": {},
   "outputs": [
    {
     "name": "stderr",
     "output_type": "stream",
     "text": [
      "/home/cmy/spark/spark-3.3.2-bin-hadoop3/python/pyspark/sql/dataframe.py:229: FutureWarning: Deprecated in 2.0, use createOrReplaceTempView instead.\n",
      "  warnings.warn(\"Deprecated in 2.0, use createOrReplaceTempView instead.\", FutureWarning)\n"
     ]
    }
   ],
   "source": [
    "df_trips_data.registerTempTable('trips_data')"
   ]
  },
  {
   "cell_type": "code",
   "execution_count": 15,
   "id": "5db916c8-cccb-4445-b33b-7a1fd4e6a699",
   "metadata": {},
   "outputs": [],
   "source": [
    "df_trips_data.createOrReplaceTempView ('trips_data')"
   ]
  },
  {
   "cell_type": "markdown",
   "id": "391f42e9-52b0-46ac-a8bf-6ed4331736c7",
   "metadata": {},
   "source": [
    "For example, let's count records by service type:"
   ]
  },
  {
   "cell_type": "code",
   "execution_count": 16,
   "id": "f20c60da-59f8-4259-8181-d89c4c0b5046",
   "metadata": {},
   "outputs": [
    {
     "name": "stderr",
     "output_type": "stream",
     "text": [
      "[Stage 5:====================================================>    (11 + 1) / 12]"
     ]
    },
    {
     "name": "stdout",
     "output_type": "stream",
     "text": [
      "+------------+--------+\n",
      "|service_type|count(1)|\n",
      "+------------+--------+\n",
      "|       green| 1734051|\n",
      "|      yellow|24648499|\n",
      "+------------+--------+\n",
      "\n"
     ]
    },
    {
     "name": "stderr",
     "output_type": "stream",
     "text": [
      "                                                                                "
     ]
    }
   ],
   "source": [
    "spark.sql(\"\"\"\n",
    "SELECT\n",
    "    service_type,\n",
    "    count(1)\n",
    "FROM\n",
    "    trips_data\n",
    "GROUP BY \n",
    "    service_type\n",
    "\"\"\").show()"
   ]
  },
  {
   "cell_type": "markdown",
   "id": "d41c0690-f2ca-4479-888e-5e8d646ee66d",
   "metadata": {},
   "source": [
    "Now let's execute this query from module 4:"
   ]
  },
  {
   "cell_type": "code",
   "execution_count": 17,
   "id": "13b7cfb3-15e9-40c6-935f-04dcf2698ba3",
   "metadata": {},
   "outputs": [],
   "source": [
    "df_result = spark.sql(\"\"\"\n",
    "SELECT \n",
    "    -- Reveneue grouping \n",
    "    PULocationID AS revenue_zone,\n",
    "    date_trunc('month', pickup_datetime) AS revenue_month, \n",
    "    service_type, \n",
    "\n",
    "    -- Revenue calculation \n",
    "    SUM(fare_amount) AS revenue_monthly_fare,\n",
    "    SUM(extra) AS revenue_monthly_extra,\n",
    "    SUM(mta_tax) AS revenue_monthly_mta_tax,\n",
    "    SUM(tip_amount) AS revenue_monthly_tip_amount,\n",
    "    SUM(tolls_amount) AS revenue_monthly_tolls_amount,\n",
    "    SUM(improvement_surcharge) AS revenue_monthly_improvement_surcharge,\n",
    "    SUM(total_amount) AS revenue_monthly_total_amount,\n",
    "    SUM(congestion_surcharge) AS revenue_monthly_congestion_surcharge,\n",
    "\n",
    "    -- Additional calculations\n",
    "    AVG(passenger_count) AS avg_montly_passenger_count,\n",
    "    AVG(trip_distance) AS avg_montly_trip_distance\n",
    "FROM\n",
    "    trips_data\n",
    "GROUP BY\n",
    "    1, 2, 3\n",
    "\"\"\")"
   ]
  },
  {
   "cell_type": "markdown",
   "id": "4b8a72ff-de5f-4b2e-bd20-8209a6646cc1",
   "metadata": {},
   "source": [
    "We can show the results with:"
   ]
  },
  {
   "cell_type": "code",
   "execution_count": 18,
   "id": "cb3eedc8-0f4a-4ae8-a094-fa784f1a5550",
   "metadata": {},
   "outputs": [
    {
     "name": "stderr",
     "output_type": "stream",
     "text": [
      "[Stage 8:====================================================>    (11 + 1) / 12]"
     ]
    },
    {
     "name": "stdout",
     "output_type": "stream",
     "text": [
      "+------------+-------------------+------------+----------------------------+--------------------------+\n",
      "|revenue_zone|      revenue_month|service_type|revenue_monthly_total_amount|avg_montly_passenger_count|\n",
      "+------------+-------------------+------------+----------------------------+--------------------------+\n",
      "|         196|2020-01-01 00:00:00|       green|           62713.79000000236|        1.4023121387283237|\n",
      "|         184|2020-01-01 00:00:00|       green|           689.6400000000001|                       1.8|\n",
      "|         263|2020-02-01 00:00:00|       green|           7640.500000000021|        1.4705882352941178|\n",
      "|         231|2020-02-01 00:00:00|       green|           8635.019999999997|                       1.0|\n",
      "|         100|2020-02-01 00:00:00|       green|                     1890.41|                      null|\n",
      "|         252|2020-01-01 00:00:00|       green|           6680.330000000003|                       1.1|\n",
      "|         258|2020-02-01 00:00:00|       green|          10001.620000000004|        1.1363636363636365|\n",
      "|         207|2020-02-01 00:00:00|       green|           613.2800000000003|        1.0952380952380953|\n",
      "|         157|2020-03-01 00:00:00|       green|          3660.5600000000013|        1.2857142857142858|\n",
      "|         230|2020-01-01 00:00:00|       green|          2035.5300000000004|                       1.0|\n",
      "|          41|2019-12-01 00:00:00|       green|                       27.15|                       1.0|\n",
      "|          75|2009-01-01 00:00:00|       green|                       10.05|                       1.0|\n",
      "|         226|2020-02-01 00:00:00|       green|          53028.950000000856|        1.3070452155625658|\n",
      "|          37|2020-02-01 00:00:00|       green|           26942.41999999992|        1.2318059299191375|\n",
      "|         115|2020-02-01 00:00:00|       green|          1565.8399999999992|        1.1724137931034482|\n",
      "|         239|2020-03-01 00:00:00|       green|                      785.47|                      null|\n",
      "|         180|2020-01-01 00:00:00|       green|           4414.240000000002|        1.3396226415094339|\n",
      "|          97|2020-01-01 00:00:00|       green|          202092.39999998402|        1.1673425250067586|\n",
      "|         131|2020-02-01 00:00:00|       green|          14432.730000000032|        1.2173913043478262|\n",
      "|         170|2020-01-01 00:00:00|       green|           7344.279999999999|                       1.0|\n",
      "+------------+-------------------+------------+----------------------------+--------------------------+\n",
      "only showing top 20 rows\n",
      "\n"
     ]
    },
    {
     "name": "stderr",
     "output_type": "stream",
     "text": [
      "                                                                                "
     ]
    }
   ],
   "source": [
    "df_result \\\n",
    "    .select('revenue_zone', 'revenue_month', 'service_type', 'revenue_monthly_total_amount', 'avg_montly_passenger_count') \\\n",
    "    .show()"
   ]
  },
  {
   "cell_type": "markdown",
   "id": "2ea42fd4-31e5-45d8-968d-01343ed37445",
   "metadata": {},
   "source": [
    "## 5: Saving the result\n",
    "Finally we can save the result:"
   ]
  },
  {
   "cell_type": "code",
   "execution_count": 19,
   "id": "5890da6b-15db-4755-a86f-45f9daa07c8f",
   "metadata": {},
   "outputs": [
    {
     "name": "stderr",
     "output_type": "stream",
     "text": [
      "                                                                                "
     ]
    }
   ],
   "source": [
    "df_result.coalesce(1).write.parquet('data/report/revenue/', mode='overwrite')"
   ]
  },
  {
   "attachments": {
    "69eb383e-0ac0-4953-80ef-f32f97a64ce0.png": {
     "image/png": "[encoded data removed]"
    }
   },
   "cell_type": "markdown",
   "id": "a53d0db7-4071-46a1-800e-9e7168c44052",
   "metadata": {},
   "source": [
    "![image.png](attachment:69eb383e-0ac0-4953-80ef-f32f97a64ce0.png)"
   ]
  },
  {
   "cell_type": "code",
   "execution_count": null,
   "id": "840a9d43-81e6-46e2-99f5-d803dc5bc9f4",
   "metadata": {},
   "outputs": [],
   "source": []
  }
 ],
 "metadata": {
  "kernelspec": {
   "display_name": "Python 3 (ipykernel)",
   "language": "python",
   "name": "python3"
  },
  "language_info": {
   "codemirror_mode": {
    "name": "ipython",
    "version": 3
   },
   "file_extension": ".py",
   "mimetype": "text/x-python",
   "name": "python",
   "nbconvert_exporter": "python",
   "pygments_lexer": "ipython3",
   "version": "3.8.10"
  }
 },
 "nbformat": 4,
 "nbformat_minor": 5
}
